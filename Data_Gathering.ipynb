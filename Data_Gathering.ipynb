{
 "cells": [
  {
   "cell_type": "markdown",
   "metadata": {},
   "source": [
    "# Data Gathering process for Pillar 3 Data"
   ]
  },
  {
   "cell_type": "markdown",
   "metadata": {},
   "source": [
    "This notebook can be used to extract particular tables from pdf or csv/excel reports. The process contain 3 steps:\n",
    "- Step1: Extract all tables from pdf reports, generate corresponding csv reports\n",
    "- Step2: Select table from csv reports using keywords\n",
    "- Step3: Combine tables of different reporting periods together\n",
    "\n",
    "\n"
   ]
  },
  {
   "cell_type": "markdown",
   "metadata": {},
   "source": [
    "## Install and Import packages"
   ]
  },
  {
   "cell_type": "code",
   "execution_count": 1,
   "metadata": {},
   "outputs": [],
   "source": [
    "#Install packages\n",
    "#pip install camelot-py\n",
    "#pip install ghostscript"
   ]
  },
  {
   "cell_type": "code",
   "execution_count": 2,
   "metadata": {},
   "outputs": [],
   "source": [
    "#Import packages\n",
    "import warnings\n",
    "warnings.simplefilter(action='ignore', category=UserWarning)\n",
    "\n",
    "from pandas.core.common import SettingWithCopyWarning\n",
    "warnings.simplefilter(action=\"ignore\", category=SettingWithCopyWarning)\n",
    "\n",
    "import camelot\n",
    "import pandas as pd\n",
    "import regex as re\n",
    "import os\n",
    "\n",
    "import shutil\n",
    "from mypackage.pdf_extract import *\n",
    "from mypackage.table_extract import *\n",
    "from mypackage.table_combine import *"
   ]
  },
  {
   "cell_type": "code",
   "execution_count": 3,
   "metadata": {},
   "outputs": [
    {
     "name": "stdout",
     "output_type": "stream",
     "text": [
      "Current Directory :  C:\\Users\\ziwei.li\\Documents\\Python Scripts\\TableExtraction\n",
      "Parent Directory :  C:\\Users\\ziwei.li\\Documents\\Python Scripts\n",
      "Report Directory :  C:\\Users\\ziwei.li\\Documents\\Python Scripts\\Reports\n",
      "Keywords excel path :  C:\\Users\\ziwei.li\\Documents\\Python Scripts\\Reports\\Table_Keywords.xlsx\n"
     ]
    }
   ],
   "source": [
    "#Setup working directories\n",
    "currentDict=path = os.getcwd() \n",
    "parentDict=path = os.path.abspath(os.path.join(path, os.pardir))\n",
    "reportPath=(parentDict+'\\\\Reports')\n",
    "keywordsPath=(reportPath+'\\\\Table_Keywords.xlsx')\n",
    "\n",
    "print(\"Current Directory : \", currentDict)\n",
    "print(\"Parent Directory : \", parentDict) \n",
    "print('Report Directory : ', reportPath)\n",
    "print('Keywords excel path : ',keywordsPath)"
   ]
  },
  {
   "cell_type": "markdown",
   "metadata": {},
   "source": [
    "## Step 1 - extract all tables from pdf reports"
   ]
  },
  {
   "cell_type": "markdown",
   "metadata": {},
   "source": [
    "This function can convert a pdf report into a csv report. Please execute the command cell below, 2 questions will pop up\n",
    "1. Do you want to recreate CSV reports or only update the latest periods? \n",
    ">- Enter 'C' if :\n",
    ">> - it's the first time you extract the tables from these pdf reports\n",
    ">> - you want to redo the extraction and replace the existing csv reports<br>\n",
    "The function will create csv reports for all pdf reports in \"pdf reports\" folder, save them in \"csv reports\" folder.\n",
    ">- Enter 'U' to update latest csv reports. The function will create csv reports for all latest pdf reports in \"pdf reports update\" folder, save them in \"csv reports update\" folder.\n",
    "\n",
    "2. For 1 bank or for all banks? Please enter name of the bank(e.g.'Barclays') or 'Allbanks'\n",
    ">- Enter 'Barclays' if you want to create/update csv reports only for this one bank.\n",
    ">- Enter 'Allbanks' if you want to create/update csv reports for all banks in the report folder."
   ]
  },
  {
   "cell_type": "code",
   "execution_count": 4,
   "metadata": {
    "scrolled": true
   },
   "outputs": [
    {
     "name": "stdout",
     "output_type": "stream",
     "text": [
      "Do you want to recreate CSV reports or only update the latest periods?         \n",
      "Please enter 'C' for create or 'U' for update\n",
      "C\n",
      "\n",
      "For 1 bank or for all banks? Please enter name of the bank(e.g.'Barclays') or 'Allbanks'\n",
      "Allbanks\n",
      "\n",
      "\n",
      "ABSA 2019YE1231_RMReport extraction started\n",
      "ABSA 2019YE1231_RMReport extraction completed\n",
      "\n",
      "ABSA 20201H0630 extraction started\n",
      "ABSA 20201H0630 extraction completed\n",
      "\n",
      "ABSA extraction completed, converted 2 pdf to csv\n",
      "\n",
      "\n",
      "Extraction finished\n",
      "\n",
      "\n"
     ]
    }
   ],
   "source": [
    "tableFpdf(reportPath)"
   ]
  },
  {
   "cell_type": "markdown",
   "metadata": {},
   "source": [
    "## Step2 -  select tables from unstructured csv reports using keywords\n"
   ]
  },
  {
   "cell_type": "markdown",
   "metadata": {},
   "source": [
    "This function can convert extract a particular table from csv reports. Please execute the command cell below, 3 questions will pop up\n",
    "1. What's the table that you want to extract?\n",
    ">- Enter the name of the table. With the current version, you can enter either \"RWA\",\"KM1\" or \"CCR7\"\n",
    ">- If you would like to extract a new type of table, make sure to add a new column in Table_keywords.xlsx, with the name of the table as column name and keywords for each bank. Then you are all set.\n",
    ">- The objective is to have a set of keywords which allows us to extract only 1 particular table from each report. If the function extracts multiple tables from each report, you may have to add additional the keywords.\n",
    "\n",
    "2. Do you want to create this table or update the existing table?\n",
    ">- Enter 'C' if: <br>\n",
    ">>- it's the first time you extract this table<br>\n",
    ">>- you want redo the extraction and replace the existing table<br>\n",
    "The function will extract this table from all csv reports in \"csv reports\" folder, put them into 1 single excel file and save it in \"selected tables\" folder.\n",
    ">- Enter 'U' to update a csv file in \"selected tables\" folder. The function will extract this table from all csv reports in \"csv reports update\" folder, add these new tables to the corresponding file in \"selected tables\" folder.\n",
    "\n",
    "3. For 1 bank or for all banks? Please enter name of the bank(e.g.'Barclays') or 'Allbanks'\n",
    ">- Enter 'Barclays' if you want to create/update selected-table only for this one bank.\n",
    ">- Enter 'Allbanks' if you want to create/update selected-table for all banks in the report folder.\n",
    "\n",
    "4. Once extrction done, do you want to move all csv files in \"csv reports update\" folder to \"csv reports\" folder? Enter(Y/N)\n",
    ">- Enter \"Y\" if you do not want to extract other tables from the latest csv reports\n",
    ">- Enter \"N\" if you still want to extract other tables from the latest csv reports.\n",
    ">- For example, you want to extract 2 types of tables. When extracting the first table you should answer \"N\" to this question because you need to extract another table later and want to keep the latest csv reports in the \"csv reports update\" folder. However, when you extract the second table, you should answer \"Y\" to this question."
   ]
  },
  {
   "cell_type": "code",
   "execution_count": 9,
   "metadata": {
    "scrolled": true
   },
   "outputs": [
    {
     "name": "stdout",
     "output_type": "stream",
     "text": [
      "Do you want to create a new type of table or update the existing table?         \n",
      "Please enter 'C' for create or 'U' for update\n",
      "C\n",
      "\n",
      "What is the name of that table?\n",
      "CCR7\n",
      "\n",
      "For 1 bank or for all banks? Please enter name of the bank(e.g.'Barclays') or 'Allbanks'\n",
      "Allbanks\n",
      "\n",
      "\n",
      "ABSA - CCR7 Table\n",
      "\n",
      "Keywords: ['Asset size', 'Methodology']\n",
      "ABSA-2019YE1231_RMReport.xlsx started\n",
      "--> Found 0 table(s) which contain at least 2 keyword(s)\n",
      "ABSA-20201H0630.xlsx started\n",
      "--> Found 1 table(s) which contain at least 2 keyword(s)\n",
      "\n",
      "\n",
      "Extraction finished\n",
      "\n",
      "\n"
     ]
    }
   ],
   "source": [
    "tableFcsv(reportPath, keywordsPath)"
   ]
  },
  {
   "cell_type": "markdown",
   "metadata": {},
   "source": [
    "## Step3 -  combine tables of different reporting periods"
   ]
  },
  {
   "cell_type": "markdown",
   "metadata": {},
   "source": [
    "Current version can combine RWA tables for the following banks :<br> \n",
    "- Bank of Montreal\n",
    "- Bank of Nova Scotia\n",
    "- National Bank of Canada\n",
    "- Royal Bank of Canada (doesn't work super well as it's generated from pdf reports)\n",
    "- Toronto Dominion\n",
    "\n",
    "**Warning:**\n",
    "Variations of table structure may lead to table merging mistake. Please make sure to double check the values of the combined table. \n",
    "\n",
    "I've cleaned some table structure manually. If you re-generated and replaced existing files in \"selected tables\" folder, the combine code may not work, you may have to clean the corresponding files in \"selecte tables\" folder again manually before running the code.\n"
   ]
  },
  {
   "cell_type": "code",
   "execution_count": 7,
   "metadata": {
    "scrolled": true
   },
   "outputs": [
    {
     "name": "stdout",
     "output_type": "stream",
     "text": [
      "No existing function to combine the bank you want, Please do it manually :)\n"
     ]
    }
   ],
   "source": [
    "bank='ABSA'\n",
    "table='RWA'\n",
    "table_combine(bank,table,reportPath)"
   ]
  },
  {
   "cell_type": "code",
   "execution_count": null,
   "metadata": {},
   "outputs": [],
   "source": []
  }
 ],
 "metadata": {
  "kernelspec": {
   "display_name": "Python 3",
   "language": "python",
   "name": "python3"
  },
  "language_info": {
   "codemirror_mode": {
    "name": "ipython",
    "version": 3
   },
   "file_extension": ".py",
   "mimetype": "text/x-python",
   "name": "python",
   "nbconvert_exporter": "python",
   "pygments_lexer": "ipython3",
   "version": "3.7.6"
  }
 },
 "nbformat": 4,
 "nbformat_minor": 2
}
